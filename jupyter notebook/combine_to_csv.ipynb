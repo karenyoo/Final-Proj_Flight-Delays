{
 "cells": [
  {
   "cell_type": "code",
   "execution_count": 1,
   "metadata": {},
   "outputs": [],
   "source": [
    "import pandas as pd\n",
    "import glob, os"
   ]
  },
  {
   "cell_type": "code",
   "execution_count": 2,
   "metadata": {},
   "outputs": [],
   "source": [
    "os.chdir(\"/Users/K/UCBEL201806DATA2-Class-Repository-DATA/Project3/Startover/data\")\n",
    "results = pd.DataFrame([])\n",
    " \n",
    "for counter, file in enumerate(glob.glob(\"*.csv\")):\n",
    "    namedf = pd.read_csv(file, skiprows=0, usecols=[0,1,2,3,4,5,6,7,8,9,10,11])\n",
    "    results = results.append(namedf)\n",
    " \n",
    "results.to_csv('combined2018.csv')"
   ]
  },
  {
   "cell_type": "code",
   "execution_count": null,
   "metadata": {},
   "outputs": [],
   "source": []
  }
 ],
 "metadata": {
  "kernelspec": {
   "display_name": "Python 3",
   "language": "python",
   "name": "python3"
  },
  "language_info": {
   "codemirror_mode": {
    "name": "ipython",
    "version": 3
   },
   "file_extension": ".py",
   "mimetype": "text/x-python",
   "name": "python",
   "nbconvert_exporter": "python",
   "pygments_lexer": "ipython3",
   "version": "3.6.5"
  }
 },
 "nbformat": 4,
 "nbformat_minor": 2
}
